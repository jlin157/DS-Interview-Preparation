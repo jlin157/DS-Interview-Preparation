{
 "cells": [
  {
   "cell_type": "code",
   "execution_count": 2,
   "metadata": {},
   "outputs": [],
   "source": [
    "import matplotlib.pyplot as plt\n",
    "import numpy as np"
   ]
  },
  {
   "cell_type": "markdown",
   "metadata": {},
   "source": [
    "# 1. Generate Normal Distribution [Python + Stats]"
   ]
  },
  {
   "cell_type": "markdown",
   "metadata": {},
   "source": [
    "Write a function to generate N samples from a normal distribution from np.random.poisson() and plot the histogram. You may omit the plot to test your code."
   ]
  },
  {
   "attachments": {
    "image.png": {
     "image/png": "[encoded data removed]"
    }
   },
   "cell_type": "markdown",
   "metadata": {},
   "source": [
    "Hint: CLT ![image.png](attachment:image.png)"
   ]
  },
  {
   "cell_type": "code",
   "execution_count": null,
   "metadata": {},
   "outputs": [],
   "source": []
  },
  {
   "cell_type": "markdown",
   "metadata": {},
   "source": [
    "# 2. Identify triangle [SQL]"
   ]
  },
  {
   "cell_type": "markdown",
   "metadata": {},
   "source": [
    "Write a query identifying the type of each record in the TRIANGLES table using its three side lengths. Output one of the following statements for each record in the table:\n",
    "\n",
    "        Equilateral: It's a triangle with three sides of equal length.\n",
    "        Isosceles: It's a triangle with two sides of equal length.\n",
    "        Scalene: It's a triangle with three sides of differing lengths.\n",
    "        Not A Triangle: The given values of A, B, and C don't form a triangle."
   ]
  },
  {
   "cell_type": "markdown",
   "metadata": {},
   "source": [
    "+----+----+----+                         +----+----+----+----------------+    \n",
    "|  A |  B |  C |                         |  A |  B |  C |    Triangle    |\n",
    "+----+----+----+                         +----+----+----+----------------+    \n",
    "| 22 | 20 | 23 |                         | 22 | 20 | 23 | Scalene        |\n",
    "| 20 | 20 | 20 |      ============>      | 20 | 20 | 20 | Equilateral    |\n",
    "| 20 | 21 | 22 |                         | 20 | 20 | 22 | Isosceles      |\n",
    "| 13 | 14 | 30 |                         | 13 | 14 | 30 | Not A Triangle |\n",
    "+----+----+----+                         +----+----+----+----------------+ "
   ]
  },
  {
   "cell_type": "markdown",
   "metadata": {},
   "source": [
    "SELECT \n",
    "\n",
    "FROM"
   ]
  },
  {
   "cell_type": "markdown",
   "metadata": {},
   "source": [
    "# Extra Nomalize grade [Python + Feature Engineering]"
   ]
  },
  {
   "cell_type": "markdown",
   "metadata": {},
   "source": [
    "tuples = [\n",
    "    ('Jason', 94),\n",
    "    ('Tessa', 80),\n",
    "    ('Carla', 38),\n",
    "    ('Matt', 43),\n",
    "    ('Jessica', 100)\n",
    "]\n",
    "\n",
    "def normalize_grades(tuples) - > [\n",
    "    ('Jason', 0.9),\n",
    "    ('Tessa', 0.68),\n",
    "    ('Carla', 0.0),\n",
    "    ('Matt', 0.08),\n",
    "    ('Jessica', 1.0)\n",
    "]"
   ]
  },
  {
   "cell_type": "code",
   "execution_count": 30,
   "metadata": {},
   "outputs": [],
   "source": [
    "def normalize_grades(tuples):\n",
    "    \n",
    "    \n",
    "    return"
   ]
  },
  {
   "cell_type": "code",
   "execution_count": 1,
   "metadata": {},
   "outputs": [],
   "source": [
    "tuples = [('Jason', 94),('Tessa', 80),('Carla', 38),('Matt', 43),('Jessica', 100)]\n",
    "assert normalize_grades(tuples) == [('Jason', 0.9),('Tessa', 0.68),('Carla', 0.0),('Matt', 0.08),('Jessica', 1.0)]"
   ]
  }
 ],
 "metadata": {
  "kernelspec": {
   "display_name": "Python 3",
   "language": "python",
   "name": "python3"
  },
  "language_info": {
   "codemirror_mode": {
    "name": "ipython",
    "version": 3
   },
   "file_extension": ".py",
   "mimetype": "text/x-python",
   "name": "python",
   "nbconvert_exporter": "python",
   "pygments_lexer": "ipython3",
   "version": "3.8.3"
  }
 },
 "nbformat": 4,
 "nbformat_minor": 4
}
