{
 "cells": [
  {
   "cell_type": "markdown",
   "metadata": {},
   "source": [
    "### Q1 ###"
   ]
  },
  {
   "cell_type": "code",
   "execution_count": 7,
   "metadata": {},
   "outputs": [],
   "source": [
    "\"\"\"\n",
    "You have a list which include several tuples ( country and temperature_c )\n",
    "\n",
    "As you know Celsius * (9/5) + 32 = Fahrenheit\n",
    "\n",
    "How can you convert Celsius to Fahrenheit?\n",
    "\"\"\"\n",
    "\n",
    "temps = [('US', 29), ('UK', 43), ('Canada', 5)]"
   ]
  },
  {
   "cell_type": "code",
   "execution_count": 9,
   "metadata": {},
   "outputs": [
    {
     "data": {
      "text/plain": [
       "[('US', 84.2), ('UK', 109.4), ('Canada', 41.0)]"
      ]
     },
     "execution_count": 9,
     "metadata": {},
     "output_type": "execute_result"
    }
   ],
   "source": [
    "ideal_result=list(map(lambda x:(x[0],x[1]*9/5+32),temps))\n",
    "ideal_result"
   ]
  },
  {
   "cell_type": "markdown",
   "metadata": {},
   "source": [
    "ideal_result = [('US', 84.2), ('UK', 109.4), ('Canada', 41.0)]"
   ]
  },
  {
   "cell_type": "markdown",
   "metadata": {},
   "source": [
    "### Q2 ###"
   ]
  },
  {
   "cell_type": "code",
   "execution_count": null,
   "metadata": {},
   "outputs": [],
   "source": []
  },
  {
   "cell_type": "code",
   "execution_count": 26,
   "metadata": {},
   "outputs": [
    {
     "name": "stdout",
     "output_type": "stream",
     "text": [
      "passed!\n"
     ]
    }
   ],
   "source": [
    "# Find the intersection of 2 lists. Return the result as a sorted list\n",
    "\n",
    "def intersection(list1, list2):\n",
    "    # your code goes here:\n",
    "    if list1 == None or list2 == None:\n",
    "        return\n",
    "    result=[]\n",
    "    list1 = set(list1)\n",
    "    list2 = set(list2)\n",
    "    result = sorted(list(list1 & list2))\n",
    "    if len(result)==0:\n",
    "        return\n",
    "    return (sorted(result))\n",
    "\n",
    "assert intersection([4, 9, 9, 11, 26, 28, 54, 69], [9, 9, 74, 21, 11, 63, 28, 26]) == [9, 11, 26, 28]\n",
    "\n",
    "assert intersection([1], [9, 9, 74, 21, 45, 11, 63, 28, 26]) == None\n",
    "\n",
    "assert intersection(None, [9, 9, 74, 21, 45, 11, 63, 28, 26]) == None\n",
    "\n",
    "assert intersection([1, 2], None) == None\n",
    "\n",
    "print('passed!')"
   ]
  },
  {
   "cell_type": "markdown",
   "metadata": {},
   "source": [
    "### SQL Q1 ###"
   ]
  },
  {
   "cell_type": "code",
   "execution_count": null,
   "metadata": {},
   "outputs": [],
   "source": [
    "\"\"\"\n",
    "You have a table(employee) which include several columns such as id, name, department, salary\n",
    "Now, you want to see top3 employees based on their salary for each department \n",
    "\"\"\"\n",
    "\"\"\"\n",
    "+----------------+-------------+--------------------+\n",
    "| Column Name    | Column Type | Examples           |\n",
    "+----------------+-------------+--------------------+\n",
    "| id             | STRING      | 001                |\n",
    "+----------------+-------------+--------------------+\n",
    "| name           | STRING      | 'Lin'              |\n",
    "+----------------+-------------+--------------------+\n",
    "| Department     | String      |  \"Data\"            |\n",
    "+----------------+-------------+--------------------+\n",
    "| Salary         | Integer     |  80000             |\n",
    "+----------------+-------------+--------------------+\n",
    "\"\"\""
   ]
  },
  {
   "cell_type": "code",
   "execution_count": null,
   "metadata": {},
   "outputs": [],
   "source": [
    "SELECT a.NAME\n",
    "FROM (\n",
    "    SELECT NAME, Department, Salary, RANK() over (partition by Department order by Salary) as rak\n",
    "    FROM Employee ) as a\n",
    "WHERE a.rak < 4"
   ]
  }
 ],
 "metadata": {
  "kernelspec": {
   "display_name": "Python 3",
   "language": "python",
   "name": "python3"
  },
  "language_info": {
   "codemirror_mode": {
    "name": "ipython",
    "version": 3
   },
   "file_extension": ".py",
   "mimetype": "text/x-python",
   "name": "python",
   "nbconvert_exporter": "python",
   "pygments_lexer": "ipython3",
   "version": "3.8.3"
  }
 },
 "nbformat": 4,
 "nbformat_minor": 4
}
