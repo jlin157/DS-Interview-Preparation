{
 "cells": [
  {
   "cell_type": "markdown",
   "metadata": {},
   "source": [
    "### Linear regression and Gradient descent ###"
   ]
  },
  {
   "cell_type": "code",
   "execution_count": 1,
   "metadata": {},
   "outputs": [],
   "source": [
    "import numpy as np\n",
    "import pandas as pd\n",
    "from sklearn.linear_model import LinearRegression"
   ]
  },
  {
   "cell_type": "code",
   "execution_count": 8,
   "metadata": {},
   "outputs": [],
   "source": [
    "X1 = np.random.rand(100)\n",
    "X2 = np.random.rand(100)\n",
    "y = 0.5 + 0.3 * X1 + 0.2 * X2 "
   ]
  },
  {
   "cell_type": "code",
   "execution_count": 9,
   "metadata": {},
   "outputs": [
    {
     "name": "stdout",
     "output_type": "stream",
     "text": [
      "0.49999999999999994\n",
      "[0.3 0.2]\n"
     ]
    }
   ],
   "source": [
    "LR = LinearRegression()\n",
    "X = pd.DataFrame(\n",
    "    {'x1': X1,\n",
    "     'x2': X2\n",
    "    })\n",
    "LR.fit(X, y)\n",
    "print(LR.intercept_)\n",
    "print(LR.coef_)"
   ]
  },
  {
   "cell_type": "markdown",
   "metadata": {},
   "source": [
    "Calculate coefs and intercept with your own gradient descent function\n",
    "\n",
    "epochs = 1000 <br>\n",
    "learning_rate = 0.5"
   ]
  },
  {
   "cell_type": "code",
   "execution_count": 15,
   "metadata": {},
   "outputs": [],
   "source": [
    "def GD_main(X1, X2, y, epochs, learning_rate):\n",
    "    b0,b1,b2=creating_betas()\n",
    "    \n",
    "    for i in range(epochs):\n",
    "        p0, p1, p2 = b0, b1, b2\n",
    "\n",
    "        g0, g1, g2 = calculating_gd(X1, X2, y, b0, b1, b2)\n",
    "        b0,b1,b2 = updating_beta(b0, b1, b2, g0, g1, g2, learning_rate)\n",
    "        \n",
    "        if p0==b0 and p1==b1 and p2==b2:\n",
    "            return(i,b0,b1,b2)\n",
    "    return(i,b0,b1,b2)"
   ]
  },
  {
   "cell_type": "code",
   "execution_count": 12,
   "metadata": {},
   "outputs": [],
   "source": [
    "def creating_betas():\n",
    "    b0 = np.random.uniform(-1, 1)\n",
    "    b1 = np.random.uniform(-1, 1)\n",
    "    b2 = np.random.uniform(-1, 1)\n",
    "    return(b0,b1,b2)"
   ]
  },
  {
   "cell_type": "code",
   "execution_count": 13,
   "metadata": {},
   "outputs": [],
   "source": [
    "def calculating_gd(X1,X2,y,b0,b1,b2):\n",
    "    g0,g1,g2=0,0,0\n",
    "    for i in range(len(X1)):\n",
    "        g0 += 2 * (y[i] - b0 - b1 * X1[i] - b2 * X2[i])\n",
    "        g1 += 2 * (y[i] - b0 - b1 * X1[i] - b2 * X2[i]) * X1[i]\n",
    "        g2 += 2 * (y[i] - b0 - b1 * X1[i] - b2 * X2[i]) * X2[i]\n",
    "    g0 /= len(X1)\n",
    "    g1 /= len(X1)\n",
    "    g2 /= len(X1)\n",
    "    return(g0,g1,g2)"
   ]
  },
  {
   "cell_type": "code",
   "execution_count": 14,
   "metadata": {},
   "outputs": [],
   "source": [
    "def updating_beta(b0, b1, b2, g0, g1, g2, learning_rate):\n",
    "    b0 += learning_rate * g0\n",
    "    b1 += learning_rate * g1\n",
    "    b2 += learning_rate * g2\n",
    "    return(b0,b1,b2)"
   ]
  },
  {
   "cell_type": "code",
   "execution_count": 16,
   "metadata": {},
   "outputs": [
    {
     "data": {
      "text/plain": [
       "(680, 0.5000000000000006, 0.2999999999999995, 0.19999999999999954)"
      ]
     },
     "execution_count": 16,
     "metadata": {},
     "output_type": "execute_result"
    }
   ],
   "source": [
    "epochs = 1000\n",
    "learning_rate = 0.5\n",
    "GD_main(X1, X2, y, epochs, learning_rate)"
   ]
  },
  {
   "cell_type": "markdown",
   "metadata": {},
   "source": [
    "### SQL ###"
   ]
  },
  {
   "cell_type": "markdown",
   "metadata": {},
   "source": [
    "Risky Projects <br>\n",
    "Identify projects that are at risk for going overbudget.<br> \n",
    "A project is considered to be overbudget if the cost of all employees assigned to the project is greater than the budget of the project. <br>\n",
    "You'll need to prorate the cost of the employees to the duration of the project. <br>\n",
    "For example, if the budget for a project that takes half a year to complete is 10K, <br>\n",
    "then the total half-year salary of all employees assigned to the project should not exceed 10K. <br>\n",
    "\n",
    "Salary is defined on a yearly basis, <br>\n",
    "so be careful how to calculate salaries for the projects that last less or more than one year.<br>\n",
    "Output a list of projects that are overbudget with their project name, project budget, and prorated total employee expense (rounded to the next dollar amount)."
   ]
  },
  {
   "cell_type": "markdown",
   "metadata": {},
   "source": [
    "cost of all employess on a porject > budget -> overbudget\n",
    "\n",
    "100/12$, 200/12$\n",
    "\n",
    "250$ 6 year \n",
    "\n",
    "(100/12+200/12)*6 > 250 overbudget"
   ]
  },
  {
   "cell_type": "markdown",
   "metadata": {},
   "source": [
    "linkedin_projects\n",
    "-id          (int\n",
    "-title       (varchar\n",
    "-budget      (int\n",
    "-start_date  (datetime\n",
    "-end_date    (datetime\n",
    "\n",
    "linkedin_emp_projects\n",
    "-emp_id      (int\n",
    "-project_id  (int\n",
    "\n",
    "linkedin_employees\n",
    "-id          (int\n",
    "-first_name  (varchar\n",
    "-last_name   (varchar\n",
    "-salary      (int  ##salary/12"
   ]
  },
  {
   "cell_type": "code",
   "execution_count": null,
   "metadata": {},
   "outputs": [],
   "source": [
    "SELECT title as project name,\n",
    "       budget as project budget, \n",
    "       ceil((end_date-start_date)*dps.daily_project_salary) as prorated_total_employee_expense\n",
    "FROM linkedin_projects lp\n",
    "JOIN (SELECT lep.project_id, sum(float(salary)/365) as daily_project_salary\n",
    "      FROM linkedin_emp_projects lep\n",
    "      LEFT JOIN linkedin_employees le\n",
    "            ON lep.emp_id = le.id\n",
    "      GROUP BY project_id) dps\n",
    "ON lp.id = dps.project_id\n",
    "HAVING ceil((end_date-start_date)*dps.daily_project_salary) > lp.budget"
   ]
  }
 ],
 "metadata": {
  "kernelspec": {
   "display_name": "Python 3",
   "language": "python",
   "name": "python3"
  },
  "language_info": {
   "codemirror_mode": {
    "name": "ipython",
    "version": 3
   },
   "file_extension": ".py",
   "mimetype": "text/x-python",
   "name": "python",
   "nbconvert_exporter": "python",
   "pygments_lexer": "ipython3",
   "version": "3.8.3"
  }
 },
 "nbformat": 4,
 "nbformat_minor": 4
}
