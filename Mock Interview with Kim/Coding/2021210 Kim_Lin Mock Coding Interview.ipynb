{
 "cells": [
  {
   "cell_type": "code",
   "execution_count": 29,
   "metadata": {},
   "outputs": [],
   "source": [
    "original = [6, 5, 1, 7, 9, 3, 8, 10, 2]\n",
    "\n",
    "# find K th minimum number without sorting list\n",
    "def finding_K(original, k):\n",
    "    if not original:\n",
    "        return\n",
    "    sort_list=[original[0]]\n",
    "    for i in original[1:]:\n",
    "        for j in range(len(sort_list)):\n",
    "            if i <= sort_list[j]:\n",
    "                sort_list.insert(j,i)\n",
    "                break\n",
    "            elif i > sort_list[j] and j==len(sort_list)-1:\n",
    "                sort_list.append(i)\n",
    "    return (sort_list[k-1])"
   ]
  },
  {
   "cell_type": "code",
   "execution_count": 40,
   "metadata": {},
   "outputs": [],
   "source": [
    "def finding_K(original, k):\n",
    "    # set up 3 lists\n",
    "    A, B, M = [], [], []\n",
    "    \n",
    "    # Decide pivot number between 0 ~ len(original) - 1\n",
    "    # random, original[0], original[-1]\n",
    "    p = original[0]\n",
    "    \n",
    "    # compare \n",
    "    for element in original:\n",
    "        if element < p:\n",
    "            A.append(element)\n",
    "        elif element > p:\n",
    "            B.append(element)\n",
    "        else:\n",
    "            M.append(element)\n",
    "    \n",
    "    # return result\n",
    "    if len(A) >= k:\n",
    "        return finding_K(A, k)\n",
    "    elif len(A) + len(M) < k:\n",
    "        return finding_K(B, k - len(A) - len(M))\n",
    "    else:\n",
    "        return p\n"
   ]
  },
  {
   "cell_type": "code",
   "execution_count": 42,
   "metadata": {},
   "outputs": [
    {
     "name": "stdout",
     "output_type": "stream",
     "text": [
      "1\n",
      "2\n",
      "3\n",
      "5\n",
      "6\n",
      "7\n",
      "8\n",
      "9\n",
      "10\n"
     ]
    }
   ],
   "source": [
    "for i in range(1, len(original)+1):\n",
    "    print(finding_K(original, i))"
   ]
  },
  {
   "cell_type": "code",
   "execution_count": null,
   "metadata": {},
   "outputs": [],
   "source": []
  }
 ],
 "metadata": {
  "kernelspec": {
   "display_name": "Python 3",
   "language": "python",
   "name": "python3"
  },
  "language_info": {
   "codemirror_mode": {
    "name": "ipython",
    "version": 3
   },
   "file_extension": ".py",
   "mimetype": "text/x-python",
   "name": "python",
   "nbconvert_exporter": "python",
   "pygments_lexer": "ipython3",
   "version": "3.8.3"
  }
 },
 "nbformat": 4,
 "nbformat_minor": 4
}
