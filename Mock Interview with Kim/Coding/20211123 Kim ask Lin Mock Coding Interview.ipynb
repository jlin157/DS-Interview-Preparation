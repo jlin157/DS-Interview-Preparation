{
 "cells": [
  {
   "cell_type": "markdown",
   "metadata": {},
   "source": [
    "### Python ###"
   ]
  },
  {
   "cell_type": "markdown",
   "metadata": {},
   "source": [
    "Valid Parentheses\n",
    "\n",
    "Given a string s containing just the characters '(', ')', '{', '}', '[' , ']', <br>\n",
    "determine if the input string is valid.\n",
    "\n",
    "An input string is valid if:\n",
    "\n",
    "Open brackets must be closed by the same type of brackets.\n",
    "Open brackets must be closed in the correct order.\n",
    " \n",
    "Input: s = \"()\"\n",
    "Output: true\n",
    "\n",
    "Input: s = \"()[]{}\"\n",
    "Output: true\n",
    "\n",
    "Input: s = \"(]\"\n",
    "Output: false\n",
    "\n",
    "Input: s = \"([)]\"\n",
    "Output: false\n",
    "\n",
    "Input: s = \"{[]}\"\n",
    "Output: true\n",
    " \n",
    "Constraints:\n",
    "1 <= s.length <= 104\n",
    "s consists of parentheses only '()[]{}'."
   ]
  },
  {
   "cell_type": "code",
   "execution_count": 14,
   "metadata": {},
   "outputs": [
    {
     "name": "stdout",
     "output_type": "stream",
     "text": [
      "passed!\n"
     ]
    }
   ],
   "source": [
    "def isValid(s):\n",
    "    ans = []\n",
    "    dictionary = {')': '(',\n",
    "                  ']': '[',\n",
    "                  '}': '{'}\n",
    "    for i in s:\n",
    "        if i in list(dictionary.values()):\n",
    "            ans.append(i)\n",
    "        else:\n",
    "            if ans == [] or dictionary[i] != ans.pop():\n",
    "                return False\n",
    "    return ans == []\n",
    "\n",
    "\n",
    "assert isValid(\"()\") == True\n",
    "\n",
    "assert isValid(\"()[]{}\") == True\n",
    "\n",
    "assert isValid(\"(]\") == False\n",
    "\n",
    "assert isValid(\"([)]{}\") == False\n",
    "\n",
    "assert isValid(\"{[]}\") == True\n",
    "\n",
    "assert isValid(\"{[()((((((((((())))))))))))]}\") == False\n",
    "\n",
    "assert isValid(\"{[())((((((((((())))))))))))]}\") == False\n",
    "\n",
    "print('passed!')"
   ]
  },
  {
   "cell_type": "markdown",
   "metadata": {},
   "source": [
    "### SQL ###"
   ]
  },
  {
   "cell_type": "markdown",
   "metadata": {},
   "source": [
    "Acceptance Rate By Date\n",
    "\n",
    "What is the overall friend acceptance rate by date? <br>\n",
    "Your output should have the rate of acceptances by the date the request was sent. <br>\n",
    "Order by the earliest date to latest.\n",
    "\n",
    "Assume that each friend request starts by a user sending (i.e., user_id_sender) a friend request to another user (i.e., user_id_receiver) that's logged in the table with action = 'sent'. <br>\n",
    "If the request is accepted, the table logs action = 'accepted'. <br>\n",
    "If the request is not accepted, no record of action = 'accepted' is logged. "
   ]
  },
  {
   "cell_type": "markdown",
   "metadata": {},
   "source": [
    "SELECT st.date, \n",
    "       CONVERT(FLOAT,SUM(CASE WHEN ac.action = 'accepeted' THEN 1 ELSE 0))/count(st.date) as porpotion\n",
    "FROM (SELECT * FROM FRIEND WHERE action = 'sent') as st\n",
    "LEFT JOIN (SELECT * FROM FRIEND WHERE action = 'accepted') as ac\n",
    "    ON st.user_id_sender = ac.user_id_sender\n",
    "    AND st.user_id_receiver = ac.user_id_receiver\n",
    "GROUP BY st.date\n",
    "ORDER BY st.date"
   ]
  },
  {
   "cell_type": "markdown",
   "metadata": {},
   "source": [
    "select s.date as date, sum(case when a.action = 'accepted' then 1 else 0 end)::numeric / sum(case when s.action = 'sent' then 1 else 0 end) \n",
    "from \n",
    "    (select *\n",
    "    from fb_friend_requests\n",
    "    where action = 'sent') as s\n",
    "    left join \n",
    "    (select *\n",
    "    from fb_friend_requests\n",
    "    where action = 'accepted') as a on (s.user_id_sender = a.user_id_sender) and (s.user_id_receiver = a.user_id_receiver)\n",
    "group by s.date\n"
   ]
  }
 ],
 "metadata": {
  "kernelspec": {
   "display_name": "Python 3",
   "language": "python",
   "name": "python3"
  },
  "language_info": {
   "codemirror_mode": {
    "name": "ipython",
    "version": 3
   },
   "file_extension": ".py",
   "mimetype": "text/x-python",
   "name": "python",
   "nbconvert_exporter": "python",
   "pygments_lexer": "ipython3",
   "version": "3.8.3"
  }
 },
 "nbformat": 4,
 "nbformat_minor": 4
}
